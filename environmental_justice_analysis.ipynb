{
 "cells": [
  {
   "cell_type": "code",
   "execution_count": 1,
   "id": "korean-tours",
   "metadata": {},
   "outputs": [],
   "source": [
    "import pandas as pd\n",
    "import re\n",
    "import requests\n",
    "import warnings\n",
    "import numpy as np\n",
    "from scipy.stats import ttest_ind\n",
    "import scipy.stats as stats\n",
    "warnings.filterwarnings(\"ignore\")"
   ]
  },
  {
   "cell_type": "code",
   "execution_count": 2,
   "id": "cc13a621",
   "metadata": {},
   "outputs": [],
   "source": [
    "cols = ['ID', 'STATE_NAME', 'ST_ABBREV', 'ACSTOTPOP',\n",
    "        'MINORPCT', 'LOWINCPCT', \n",
    "        'CANCER', 'RESP', 'DSLPM', 'PM25', 'OZONE', 'PTRAF', 'PRE1960PCT', 'PRMP',\n",
    "        'PTSDF', 'PNPL', 'PWDIS', 'UST']\n",
    "\n",
    "df = pd.read_csv('ejscreen_2021.csv')"
   ]
  },
  {
   "cell_type": "code",
   "execution_count": 3,
   "id": "3430b07c",
   "metadata": {},
   "outputs": [
    {
     "data": {
      "text/plain": [
       "(0.46949110738161276, 0.0)"
      ]
     },
     "execution_count": 3,
     "metadata": {},
     "output_type": "execute_result"
    }
   ],
   "source": [
    "# Correlation coefficient between low-income percentage\n",
    "# and minority percentage\n",
    "dff = df[['LOWINCPCT', 'MINORPCT']].dropna()\n",
    "stats.pearsonr(dff['LOWINCPCT'], dff['MINORPCT'])"
   ]
  },
  {
   "cell_type": "code",
   "execution_count": 4,
   "id": "excess-riverside",
   "metadata": {},
   "outputs": [],
   "source": [
    "# Finds the difference of means between communities with a majority/minority\n",
    "# of the given demographic indicator, for the given environmental indicator\n",
    "def diff_of_means(df, env_ind, dem_ind):\n",
    "    group_1 = df[df[dem_ind] > 0.5][env_ind].dropna()\n",
    "    group_2 = df[df[dem_ind] < 0.5][env_ind].dropna()\n",
    "    mean_diff = group_1.mean() - group_2.mean()\n",
    "    p_val = ttest_ind(group_1, group_2, equal_var = False).pvalue\n",
    "    print(\"Difference of means \" + \"(\" + str(env_ind) + \"): \" + str(mean_diff))\n",
    "    print(\"P-value: \" + str(p_val))"
   ]
  },
  {
   "cell_type": "code",
   "execution_count": 5,
   "id": "mental-anthropology",
   "metadata": {},
   "outputs": [],
   "source": [
    "indicators = ['CANCER', 'RESP', 'DSLPM', 'PM25', 'OZONE', 'PTRAF', 'PRE1960PCT', 'PRMP', 'PTSDF', 'PNPL', 'PWDIS', 'UST']"
   ]
  },
  {
   "cell_type": "code",
   "execution_count": 6,
   "id": "municipal-nursing",
   "metadata": {},
   "outputs": [
    {
     "name": "stdout",
     "output_type": "stream",
     "text": [
      "Difference of means (CANCER): 4.206672557282616\n",
      "P-value: 0.0\n",
      "Difference of means (RESP): 0.05951614466761945\n",
      "P-value: 0.0\n",
      "Difference of means (DSLPM): 0.1493445633348242\n",
      "P-value: 0.0\n",
      "Difference of means (PM25): 1.1072028284683562\n",
      "P-value: 0.0\n",
      "Difference of means (OZONE): 0.9504947379416322\n",
      "P-value: 4.240643327418604e-167\n",
      "Difference of means (PTRAF): 642.6489770271464\n",
      "P-value: 0.0\n",
      "Difference of means (PRE1960PCT): 0.05753586555973561\n",
      "P-value: 0.0\n",
      "Difference of means (PRMP): 0.5470560318960787\n",
      "P-value: 0.0\n",
      "Difference of means (PTSDF): 1.9601661255343528\n",
      "P-value: 0.0\n",
      "Difference of means (PNPL): 0.06779827883037769\n",
      "P-value: 0.0\n",
      "Difference of means (PWDIS): 16.319801095956436\n",
      "P-value: 5.2781838735606706e-08\n",
      "Difference of means (UST): 3.826914566288587\n",
      "P-value: 0.0\n"
     ]
    }
   ],
   "source": [
    "# Difference of means between minority and white communities\n",
    "for env_ind in indicators:\n",
    "    diff_of_means(df, env_ind, 'MINORPCT')"
   ]
  },
  {
   "cell_type": "code",
   "execution_count": 7,
   "id": "rolled-recipe",
   "metadata": {},
   "outputs": [
    {
     "name": "stdout",
     "output_type": "stream",
     "text": [
      "Difference of means (CANCER): 1.7092429136932736\n",
      "P-value: 9.093845445245539e-87\n",
      "Difference of means (RESP): 0.020853071276029422\n",
      "P-value: 4.946405683379998e-219\n",
      "Difference of means (DSLPM): 0.030563847141384604\n",
      "P-value: 1.1279971692241339e-124\n",
      "Difference of means (PM25): 0.3003181802173991\n",
      "P-value: 7.237948636984571e-219\n",
      "Difference of means (OZONE): 0.1999555444522514\n",
      "P-value: 6.189807558343677e-08\n",
      "Difference of means (PTRAF): 257.68416537088376\n",
      "P-value: 2.7182504615071557e-147\n",
      "Difference of means (PRE1960PCT): 0.08652388223683605\n",
      "P-value: 0.0\n",
      "Difference of means (PRMP): 0.51960191051062\n",
      "P-value: 0.0\n",
      "Difference of means (PTSDF): 0.5304268188324484\n",
      "P-value: 1.031818029692184e-148\n",
      "Difference of means (PNPL): 0.018159745569498287\n",
      "P-value: 9.202855243970865e-32\n",
      "Difference of means (PWDIS): 1.6617927871957328\n",
      "P-value: 0.4794570881728756\n",
      "Difference of means (UST): 2.936890227114938\n",
      "P-value: 0.0\n"
     ]
    }
   ],
   "source": [
    "# Difference of means between low-income and middle/high-income communities\n",
    "for env_ind in indicators:\n",
    "    diff_of_means(df, env_ind, 'LOWINCPCT')"
   ]
  },
  {
   "cell_type": "code",
   "execution_count": 8,
   "id": "5e37a02f",
   "metadata": {},
   "outputs": [
    {
     "name": "stdout",
     "output_type": "stream",
     "text": [
      "CANCER(0.04851550492241332, 1.2627832843238108e-114)\n",
      "RESP(0.04756852203158905, 2.8942171098385647e-110)\n",
      "DSLPM(0.01383443889108369, 8.851725228621837e-11)\n",
      "PM25(0.04899108044096308, 6.240902486152196e-115)\n",
      "OZONE(0.004072405747565967, 0.05835672360946967)\n",
      "PTRAF(0.06565908134310502, 4.787919424397308e-197)\n",
      "PRE1960PCT(0.15010984183847137, 0.0)\n",
      "PRMP(0.21813728019880801, 0.0)\n",
      "PTSDF(0.040174046188724596, 2.2101226876545808e-79)\n",
      "PNPL(0.013335321288064032, 3.8548416014762033e-10)\n",
      "PWDIS(0.0028889289211215608, 0.26433472086117166)\n",
      "UST(0.17168383559033182, 0.0)\n"
     ]
    }
   ],
   "source": [
    "# Correlation coefficients between low-income percentage\n",
    "# and each environmental indicator\n",
    "for env_ind in indicators:\n",
    "    dff = df[['LOWINCPCT', env_ind]].dropna()\n",
    "    print(str(env_ind) + str(stats.pearsonr(dff['LOWINCPCT'], dff[env_ind])))"
   ]
  },
  {
   "cell_type": "code",
   "execution_count": 9,
   "id": "d6564ad0",
   "metadata": {},
   "outputs": [
    {
     "name": "stdout",
     "output_type": "stream",
     "text": [
      "CANCER(0.20321498107655106, 0.0)\n",
      "RESP(0.25697610115074343, 0.0)\n",
      "DSLPM(0.3537475344433501, 0.0)\n",
      "PM25(0.3462687474961802, 0.0)\n",
      "OZONE(0.07696236124392096, 4.045242231899512e-281)\n",
      "PTRAF(0.20903531709609308, 0.0)\n",
      "PRE1960PCT(0.09949596274985359, 0.0)\n",
      "PRMP(0.26535771662917174, 0.0)\n",
      "PTSDF(0.2833776785094173, 0.0)\n",
      "PNPL(0.12603834993092677, 0.0)\n",
      "PWDIS(0.021047206716230532, 4.1894325987397515e-16)\n",
      "UST(0.2683823153678841, 0.0)\n"
     ]
    }
   ],
   "source": [
    "# Correlation coefficients between minority percentage\n",
    "# and each environmental indicator\n",
    "for env_ind in indicators:\n",
    "    dff = df[['MINORPCT', env_ind]].dropna()\n",
    "    print(str(env_ind) + str(stats.pearsonr(dff['MINORPCT'], dff[env_ind])))"
   ]
  },
  {
   "cell_type": "code",
   "execution_count": 10,
   "id": "sudden-lodge",
   "metadata": {},
   "outputs": [],
   "source": [
    "# Separate communities by low-income and middle/high-income\n",
    "low_inc = df[df['LOWINCPCT'] > 0.5]\n",
    "aff = df[df['LOWINCPCT'] < 0.5]"
   ]
  },
  {
   "cell_type": "code",
   "execution_count": 11,
   "id": "higher-saint",
   "metadata": {},
   "outputs": [
    {
     "name": "stdout",
     "output_type": "stream",
     "text": [
      "Difference of means (CANCER): 3.9252263946159403\n",
      "P-value: 1.4121702108818805e-178\n",
      "Difference of means (RESP): 0.045895181423669495\n",
      "P-value: 0.0\n",
      "Difference of means (DSLPM): 0.1509254998115185\n",
      "P-value: 0.0\n",
      "Difference of means (PM25): 1.001323627962229\n",
      "P-value: 0.0\n",
      "Difference of means (OZONE): 1.2031153412529676\n",
      "P-value: 5.810189114671534e-82\n",
      "Difference of means (PTRAF): 540.8350722486608\n",
      "P-value: 4.361924471605786e-238\n",
      "Difference of means (PRE1960PCT): 0.013991671031559405\n",
      "P-value: 6.128936237908461e-07\n",
      "Difference of means (PRMP): 0.4889533736519781\n",
      "P-value: 0.0\n",
      "Difference of means (PTSDF): 1.65588548562404\n",
      "P-value: 0.0\n",
      "Difference of means (PNPL): 0.05627302146147467\n",
      "P-value: 1.3098839509670829e-92\n",
      "Difference of means (PWDIS): 6.431086188747303\n",
      "P-value: 0.19455644939356626\n",
      "Difference of means (UST): 2.744576321362943\n",
      "P-value: 7.729410443658936e-228\n"
     ]
    }
   ],
   "source": [
    "# Difference of means between minority and white low-income communities\n",
    "for env_ind in indicators:\n",
    "    diff_of_means(low_inc, env_ind, 'MINORPCT')"
   ]
  },
  {
   "cell_type": "code",
   "execution_count": 12,
   "id": "american-introduction",
   "metadata": {},
   "outputs": [
    {
     "name": "stdout",
     "output_type": "stream",
     "text": [
      "Difference of means (CANCER): 4.353052842559201\n",
      "P-value: 0.0\n",
      "Difference of means (RESP): 0.06663570792994034\n",
      "P-value: 0.0\n",
      "Difference of means (DSLPM): 0.16612851267379292\n",
      "P-value: 0.0\n",
      "Difference of means (PM25): 1.2233414783873773\n",
      "P-value: 0.0\n",
      "Difference of means (OZONE): 0.9579391716247088\n",
      "P-value: 1.0763915149462219e-101\n",
      "Difference of means (PTRAF): 686.7345503441784\n",
      "P-value: 0.0\n",
      "Difference of means (PRE1960PCT): 0.04045580070836763\n",
      "P-value: 2.9548630234897167e-114\n",
      "Difference of means (PRMP): 0.4194904732571203\n",
      "P-value: 0.0\n",
      "Difference of means (PTSDF): 2.226916414650155\n",
      "P-value: 0.0\n",
      "Difference of means (PNPL): 0.07744345728736203\n",
      "P-value: 7.96536164999477e-293\n",
      "Difference of means (PWDIS): 23.56330976050491\n",
      "P-value: 9.120407528603095e-06\n",
      "Difference of means (UST): 3.5306766350849346\n",
      "P-value: 0.0\n"
     ]
    }
   ],
   "source": [
    "# Difference of means between minority and white middle/high-income communities\n",
    "for env_ind in indicators:\n",
    "    diff_of_means(aff, env_ind, 'MINORPCT')"
   ]
  },
  {
   "cell_type": "code",
   "execution_count": 13,
   "id": "breathing-brain",
   "metadata": {},
   "outputs": [],
   "source": [
    "# Separate communities by majority POC and majority white\n",
    "poc = df[df['MINORPCT'] > 0.5]\n",
    "white = df[df['MINORPCT'] < 0.5]"
   ]
  },
  {
   "cell_type": "code",
   "execution_count": 14,
   "id": "dynamic-digit",
   "metadata": {},
   "outputs": [
    {
     "name": "stdout",
     "output_type": "stream",
     "text": [
      "Difference of means (CANCER): -0.30094948497315244\n",
      "P-value: 0.022798874390397558\n",
      "Difference of means (RESP): -0.014712724598087923\n",
      "P-value: 7.508600503419394e-54\n",
      "Difference of means (DSLPM): -0.0457741163991115\n",
      "P-value: 1.448198869946535e-109\n",
      "Difference of means (PM25): -0.28780216043054097\n",
      "P-value: 6.049037616044955e-80\n",
      "Difference of means (OZONE): -0.11243619632666224\n",
      "P-value: 0.06944199395030964\n",
      "Difference of means (PTRAF): -86.78675532004331\n",
      "P-value: 2.8848609523048066e-07\n",
      "Difference of means (PRE1960PCT): 0.0602011383987599\n",
      "P-value: 7.860298311217755e-146\n",
      "Difference of means (PRMP): 0.36291356453618295\n",
      "P-value: 5.701595012034249e-243\n",
      "Difference of means (PTSDF): -0.6192074656050033\n",
      "P-value: 5.621323229539969e-76\n",
      "Difference of means (PNPL): -0.02225511838485844\n",
      "P-value: 1.7760810140524555e-16\n",
      "Difference of means (PWDIS): -14.65199414997177\n",
      "P-value: 0.008416352393030157\n",
      "Difference of means (UST): 1.1539550777433583\n",
      "P-value: 1.377985747155353e-49\n"
     ]
    }
   ],
   "source": [
    "# Difference of means between low-income and middle/high-income\n",
    "# communities of color\n",
    "for env_ind in indicators:\n",
    "    diff_of_means(poc, env_ind, 'LOWINCPCT')"
   ]
  },
  {
   "cell_type": "code",
   "execution_count": 15,
   "id": "advanced-romantic",
   "metadata": {},
   "outputs": [
    {
     "name": "stdout",
     "output_type": "stream",
     "text": [
      "Difference of means (CANCER): 0.1268769629701083\n",
      "P-value: 0.07194336083788039\n",
      "Difference of means (RESP): 0.006027801908182917\n",
      "P-value: 2.507610605684012e-10\n",
      "Difference of means (DSLPM): -0.03057110353683709\n",
      "P-value: 4.167945468097786e-95\n",
      "Difference of means (PM25): -0.06578431000539275\n",
      "P-value: 9.554001649277625e-09\n",
      "Difference of means (OZONE): -0.3576123659549211\n",
      "P-value: 4.476963190484823e-15\n",
      "Difference of means (PTRAF): 59.11272277547425\n",
      "P-value: 2.98504933257921e-07\n",
      "Difference of means (PRE1960PCT): 0.08666526807556812\n",
      "P-value: 1.157884189514382e-285\n",
      "Difference of means (PRMP): 0.29345066414132515\n",
      "P-value: 4.235357148760728e-199\n",
      "Difference of means (PTSDF): -0.048176536578887985\n",
      "P-value: 0.04931120766226121\n",
      "Difference of means (PNPL): -0.0010846825589710812\n",
      "P-value: 0.6162365745944862\n",
      "Difference of means (PWDIS): 2.480229421785837\n",
      "P-value: 0.5956925889180602\n",
      "Difference of means (UST): 1.94005539146535\n",
      "P-value: 1.7848526712741728e-211\n"
     ]
    }
   ],
   "source": [
    "# Difference of means between low-income and middle/high-income\n",
    "# white communities\n",
    "for env_ind in indicators:\n",
    "    diff_of_means(white, env_ind, 'LOWINCPCT')"
   ]
  }
 ],
 "metadata": {
  "kernelspec": {
   "display_name": "Python 3 (ipykernel)",
   "language": "python",
   "name": "python3"
  },
  "language_info": {
   "codemirror_mode": {
    "name": "ipython",
    "version": 3
   },
   "file_extension": ".py",
   "mimetype": "text/x-python",
   "name": "python",
   "nbconvert_exporter": "python",
   "pygments_lexer": "ipython3",
   "version": "3.10.4"
  }
 },
 "nbformat": 4,
 "nbformat_minor": 5
}
